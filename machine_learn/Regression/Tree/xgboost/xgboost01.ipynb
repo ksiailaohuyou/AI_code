{
 "cells": [
  {
   "cell_type": "code",
   "execution_count": 1,
   "metadata": {},
   "outputs": [],
   "source": [
    "import xgboost as xgb\n",
    "import  numpy  as np"
   ]
  },
  {
   "cell_type": "code",
   "execution_count": 2,
   "metadata": {},
   "outputs": [
    {
     "name": "stdout",
     "output_type": "stream",
     "text": [
      "[17:48:17] 6513x126 matrix with 143286 entries loaded from ./datasets/12.agaricus_train.txt\n",
      "[17:48:17] 1611x126 matrix with 35442 entries loaded from ./datasets/12.agaricus_test.txt\n"
     ]
    }
   ],
   "source": [
    "# 读取数据\n",
    "data_train = xgb.DMatrix('./datasets/12.agaricus_train.txt')\n",
    "data_test = xgb.DMatrix('./datasets/12.agaricus_test.txt')"
   ]
  },
  {
   "cell_type": "code",
   "execution_count": 3,
   "metadata": {},
   "outputs": [
    {
     "name": "stdout",
     "output_type": "stream",
     "text": [
      "[0]\teval-error:0.042831\ttrain-error:0.046522\n",
      "[1]\teval-error:0.021726\ttrain-error:0.022263\n",
      "[2]\teval-error:0.006207\ttrain-error:0.007063\n",
      "[3]\teval-error:0.018001\ttrain-error:0.0152\n",
      "[4]\teval-error:0.006207\ttrain-error:0.007063\n",
      "[5]\teval-error:0\ttrain-error:0.001228\n",
      "[6]\teval-error:0\ttrain-error:0.001228\n",
      "[7]\teval-error:0\ttrain-error:0.001228\n",
      "[8]\teval-error:0\ttrain-error:0.001228\n",
      "[9]\teval-error:0\ttrain-error:0\n",
      "[0.00501517 0.9884467  0.00501517 ... 0.9981102  0.00285519 0.9981102 ]\n",
      "[0. 1. 0. ... 1. 0. 1.]\n",
      "样本总数：\t 1611\n",
      "错误数目：\t   0\n",
      "错误率：\t0.00000%\n"
     ]
    }
   ],
   "source": [
    "# 设置参数\n",
    "# eta  惩罚项\n",
    "param = {'max_depth': 2, 'eta': 1, 'silent': 1, 'objective': 'binary:logistic'}  # logistic\n",
    "# param = {'max_depth': 3, 'eta': 0.3, 'silent': 1, 'objective': 'reg:logistic'}\n",
    "watchlist = [(data_test, 'eval'), (data_train, 'train')]\n",
    "n_round = 10\n",
    "bst = xgb.train(param, data_train, num_boost_round=n_round, evals=watchlist)\n",
    "\n",
    "# 计算错误率\n",
    "y_hat = bst.predict(data_test)\n",
    "y = data_test.get_label()\n",
    "print(y_hat)\n",
    "print(y)\n",
    "error = sum(y != (y_hat > 0.5))\n",
    "error_rate = float(error) / len(y_hat)\n",
    "print('样本总数：\\t', len(y_hat))\n",
    "print('错误数目：\\t%4d' % error)\n",
    "print('错误率：\\t%.5f%%' % (100 * error_rate))"
   ]
  },
  {
   "cell_type": "code",
   "execution_count": null,
   "metadata": {},
   "outputs": [],
   "source": [
    "# 使用"
   ]
  }
 ],
 "metadata": {
  "kernelspec": {
   "display_name": "Python 3",
   "language": "python",
   "name": "python3"
  },
  "language_info": {
   "codemirror_mode": {
    "name": "ipython",
    "version": 3
   },
   "file_extension": ".py",
   "mimetype": "text/x-python",
   "name": "python",
   "nbconvert_exporter": "python",
   "pygments_lexer": "ipython3",
   "version": "3.7.3"
  }
 },
 "nbformat": 4,
 "nbformat_minor": 2
}
